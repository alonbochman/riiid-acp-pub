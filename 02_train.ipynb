{
  "cells": [
    {
      "cell_type": "code",
      "source": [
        "#Added cell to measure execution time\r\n",
        "import time\r\n",
        "start_time = time.time()"
      ],
      "outputs": [],
      "execution_count": 1,
      "metadata": {
        "jupyter": {
          "source_hidden": false,
          "outputs_hidden": false
        },
        "nteract": {
          "transient": {
            "deleting": false
          }
        },
        "gather": {
          "logged": 1638222162922
        }
      }
    },
    {
      "cell_type": "markdown",
      "source": [
        "To run distributed:\n",
        "\n",
        "```\n",
        "make\n",
        "```\n",
        "\n",
        "```\n",
        "CUDA_VISIBLE_DEVICES=0,1,2,3 python -m torch.distributed.launch --master_port 1235 --nproc_per_node=4 02_train.py --epochs 10 --bs 48 --fp16 to_fp16 --trf_heads 4 --mixup False --chunk_size 500 --trf_dim 512 --loss ce --n_chunks 1 --fit fit_flat_cos --fit_kwargs pct_start=0.5 div_final=100 --tfixup True --pad r --valid_pct 0.025 --trf_act gelu --opt ranger_lamb --lr 3e-3\n",
        "```"
      ],
      "metadata": {}
    },
    {
      "cell_type": "code",
      "source": [
        "import fastai"
      ],
      "outputs": [],
      "execution_count": 2,
      "metadata": {
        "gather": {
          "logged": 1638222163630
        }
      }
    },
    {
      "cell_type": "code",
      "source": [
        "from fastai.basics       import *\n",
        "from fastai.callback.all import *\n",
        "from fastai.distributed  import *\n",
        "from fastai.tabular.all  import *\n",
        "from fastai.test_utils   import *\n",
        "\n",
        "import ast\n",
        "import enum\n",
        "import gc\n",
        "import pandas as pd\n",
        "import pickle\n",
        "import enum\n",
        "\n",
        "from collections import defaultdict\n",
        "from fastcore.script import *\n",
        "from matplotlib import pyplot as plt\n",
        "from pathlib import Path\n",
        "from pytorch_block_sparse.util import ModelPatcher\n",
        "from sklearn.metrics import roc_auc_score\n",
        "from torch.distributions.beta import Beta\n",
        "from torch.utils.data import Dataset"
      ],
      "outputs": [],
      "execution_count": 3,
      "metadata": {
        "gather": {
          "logged": 1638222188034
        }
      }
    },
    {
      "cell_type": "code",
      "source": [
        "in_d = Path('../input')"
      ],
      "outputs": [],
      "execution_count": 4,
      "metadata": {
        "gather": {
          "logged": 1638222188500
        }
      }
    },
    {
      "cell_type": "code",
      "source": [
        "@call_parse\n",
        "def main(\n",
        "    model:         Param(\"Name\", str) = '210105',\n",
        "    data:          Param(\"Data version\", str) = '210101b',\n",
        "    load:          Param(\"Load from\", str) = None,\n",
        "    validate:      Param(\"\", action='store_true') = False,\n",
        "    chunk_size:    Param(\"Chunk size\", int) = 500,\n",
        "    n_chunks:      Param(\"Number of chunks\", int) = 1,\n",
        "    #chunk_size:    Param(\"Chunk size\", int) = 50,  \n",
        "    #n_chunks:      Param(\"Number of chunks\", int) = 10,    \n",
        "    #bs:            Param(\"BS\", int) = 96,\n",
        "    bs:            Param(\"BS\", int) = 48,    #2 works, 96 doesn't\n",
        "    workers:       Param(\"\", int) = 8,\n",
        "    valid_pct:     Param(\"Validation set\", float) = 0.025,\n",
        "    trf_dim:       Param(\"\", int) = 512,\n",
        "    trf_enc:       Param(\"\", int) = 4,\n",
        "    trf_dec:       Param(\"\", int) = 4,\n",
        "    trf_heads:     Param(\"\", int) = 4,\n",
        "    trf_do:        Param(\"\", float) = 0.1,\n",
        "    trf_act:       Param(\"\", str) = 'gelu',\n",
        "    lr:            Param(\"\", float) = 3e-3,\n",
        "    clip:          Param(\"\", float) = 0.,\n",
        "    \n",
        "    moms:          Param(\"Moms for fit_one_cycle\", float, nargs='+') = (0.95,0.85,0.95),\n",
        "    epochs:        Param(\"Epochs\", int) = 10, #Original was 30,\n",
        "    tfixup:        Param(\"Use T-Fixup init\", ast.literal_eval) = True,\n",
        "    mixup:         Param(\"Use mixup\", ast.literal_eval) = False,\n",
        "    opt:           Param(\"Optimizer\", str) = 'ranger_lamb',\n",
        "    opt_kwargs:    Param(\"Optional args for opt, eg. eps=1e-4\", str, nargs='+') = {},\n",
        "    fit:           Param(\"fit or fit_one_cycle\", str) = 'fit_flat_cos',\n",
        "    fit_kwargs:    Param(\"Optional args for fit,eg pct_start=0.1\", str, nargs='+') = ['pct_start=0.5', 'div_final=100.'],\n",
        "    fp16:          Param(\"fp16 method: to_fp16, to_native_fp16, none\", str) = 'to_fp16',\n",
        "    \n",
        "    loss:          Param(\"Loss\", str) = 'ce',\n",
        "    \n",
        "    wua:           Param(\"Weight of user_answer term in the loss\", float) = 0.,\n",
        "    pad:           Param (\"Pad left of right (l|r)\",str,choices=['l','r'])='r',\n",
        "\n",
        "    local_rank:    Param(\"--local_rank\", int) = None,\n",
        "): \n",
        "    if opt_kwargs: opt_kwargs = {s.split('=')[0]:float(s.split('=')[1]) for s in opt_kwargs}\n",
        "    if fit_kwargs: fit_kwargs = {s.split('=')[0]:float(s.split('=')[1]) for s in fit_kwargs}\n",
        "    print(locals())\n",
        "    globals().update({ 'H' : AttrDict(locals())})\n",
        "_H = AttrDict"
      ],
      "outputs": [],
      "execution_count": 5,
      "metadata": {
        "gather": {
          "logged": 1638222189118
        }
      }
    },
    {
      "cell_type": "code",
      "source": [
        "#noexport\n",
        "main()"
      ],
      "outputs": [
        {
          "output_type": "stream",
          "name": "stdout",
          "text": "{'model': '210105', 'data': '210101b', 'load': None, 'validate': False, 'chunk_size': 500, 'n_chunks': 1, 'bs': 48, 'workers': 8, 'valid_pct': 0.025, 'trf_dim': 512, 'trf_enc': 4, 'trf_dec': 4, 'trf_heads': 4, 'trf_do': 0.1, 'trf_act': 'gelu', 'lr': 0.003, 'clip': 0.0, 'moms': (0.95, 0.85, 0.95), 'epochs': 5, 'tfixup': True, 'mixup': False, 'opt': 'ranger_lamb', 'opt_kwargs': {}, 'fit': 'fit_flat_cos', 'fit_kwargs': {'pct_start': 0.5, 'div_final': 100.0}, 'fp16': 'to_fp16', 'loss': 'ce', 'wua': 0.0, 'pad': 'r', 'local_rank': None}\n"
        }
      ],
      "execution_count": 6,
      "metadata": {
        "gather": {
          "logged": 1638222189602
        }
      }
    },
    {
      "cell_type": "code",
      "source": [
        "n_gpus = torch.cuda.device_count() if H.local_rank is None else 1\n",
        "if H.local_rank is not None:\n",
        "    torch.cuda.set_device(H.local_rank)\n",
        "    torch.distributed.init_process_group(backend='nccl', init_method='env://')\n",
        "    print(f\"DISTRIBUTED: {H.local_rank}\")"
      ],
      "outputs": [],
      "execution_count": 7,
      "metadata": {
        "gather": {
          "logged": 1638222190098
        }
      }
    },
    {
      "cell_type": "markdown",
      "source": [
        "# Read df and meta"
      ],
      "metadata": {}
    },
    {
      "cell_type": "code",
      "source": [
        "#TODO detect if meta exists and don't load it."
      ],
      "outputs": [],
      "execution_count": 8,
      "metadata": {
        "gather": {
          "logged": 1638222190561
        }
      }
    },
    {
      "cell_type": "code",
      "source": [
        "with open(in_d / f'meta_v{H.data}.pkl', 'rb') as f:\n",
        "    meta = pickle.load(f)"
      ],
      "outputs": [],
      "execution_count": 9,
      "metadata": {
        "gather": {
          "logged": 1638222191008
        }
      }
    },
    {
      "cell_type": "code",
      "source": [
        "QCols = enum.IntEnum('QCols', meta.qcols, start=0)\n",
        "LCols = enum.IntEnum('LCols', meta.lcols, start=0)\n",
        "Cats  = enum.IntEnum('Cats',  meta.cat_names, start=0)\n",
        "Conts = enum.IntEnum('Conts', meta.cont_names, start=0)"
      ],
      "outputs": [],
      "execution_count": 10,
      "metadata": {
        "gather": {
          "logged": 1638222191440
        }
      }
    },
    {
      "cell_type": "code",
      "source": [
        "#%%time\n",
        "with open(in_d / f'data_v{H.data}.pkl', 'rb') as f:\n",
        "    data = pickle.load(f)"
      ],
      "outputs": [],
      "execution_count": 11,
      "metadata": {
        "gather": {
          "logged": 1638222428038
        }
      }
    },
    {
      "cell_type": "code",
      "source": [
        "#TODO detect if data exists and don't load it."
      ],
      "outputs": [],
      "execution_count": 12,
      "metadata": {
        "gather": {
          "logged": 1638222428781
        }
      }
    },
    {
      "cell_type": "code",
      "source": [
        "del data.attempt_num_coo\n",
        "del data.attempts_correct_coo\n",
        "gc.collect()"
      ],
      "outputs": [
        {
          "output_type": "execute_result",
          "execution_count": 13,
          "data": {
            "text/plain": "40"
          },
          "metadata": {}
        }
      ],
      "execution_count": 13,
      "metadata": {
        "gather": {
          "logged": 1638222429271
        }
      }
    },
    {
      "cell_type": "markdown",
      "source": [
        "# Y"
      ],
      "metadata": {}
    },
    {
      "cell_type": "code",
      "source": [
        "lut = meta.icats['answered_correctly'],meta.icats['user_answer']\n",
        "y_d = {}\n",
        "for k, v in data.cat_d.items():\n",
        "    y_d[k] = np.column_stack((lut[0][v[:,Cats.answered_correctly] - 1],lut[1][v[:,Cats.user_answer] - 1]))"
      ],
      "outputs": [],
      "execution_count": 14,
      "metadata": {
        "gather": {
          "logged": 1638222440022
        }
      }
    },
    {
      "cell_type": "markdown",
      "source": [
        "# Chop sequences"
      ],
      "metadata": {}
    },
    {
      "cell_type": "code",
      "source": [
        "def chop_sequence(d):\n",
        "    nv = defaultdict(dict)\n",
        "    for k, v in d.items():\n",
        "        i = 0\n",
        "        while i*H.chunk_size < len(v):\n",
        "            nv[k][i] = v[i*H.chunk_size:(i+1)*H.chunk_size]\n",
        "            i += 1\n",
        "    return nv"
      ],
      "outputs": [],
      "execution_count": 15,
      "metadata": {
        "gather": {
          "logged": 1638222440495
        }
      }
    },
    {
      "cell_type": "code",
      "source": [
        "cat_d  = chop_sequence(data.cat_d)\n",
        "cont_d = chop_sequence(data.cont_d)\n",
        "tags_d = chop_sequence(data.tags_d)\n",
        "tagw_d = chop_sequence(data.tagw_d)\n",
        "y_d    = chop_sequence(y_d)"
      ],
      "outputs": [],
      "execution_count": 16,
      "metadata": {
        "gather": {
          "logged": 1638222452452
        }
      }
    },
    {
      "cell_type": "code",
      "source": [
        "#assert np.concatenate(list(cat_d.values())).shape[0] == np.concatenate(list(data.cat_d.values())).shape[0]"
      ],
      "outputs": [],
      "execution_count": 17,
      "metadata": {
        "gather": {
          "logged": 1638222452997
        }
      }
    },
    {
      "cell_type": "code",
      "source": [
        "print(f'There are {len(data.cat_d)} different users')"
      ],
      "outputs": [
        {
          "output_type": "stream",
          "name": "stdout",
          "text": "There are 393656 different users\n"
        }
      ],
      "execution_count": 18,
      "metadata": {
        "gather": {
          "logged": 1638222453655
        }
      }
    },
    {
      "cell_type": "markdown",
      "source": [
        "# Train/valid split"
      ],
      "metadata": {}
    },
    {
      "cell_type": "code",
      "source": [
        "group_keys = sorted(list(cat_d.keys()))"
      ],
      "outputs": [],
      "execution_count": 19,
      "metadata": {
        "gather": {
          "logged": 1638222454133
        }
      }
    },
    {
      "cell_type": "code",
      "source": [
        "# Last H.valid_pct is valid set\n",
        "train_group_keys = group_keys[:int((1 - H.valid_pct) * len(group_keys))]\n",
        "valid_group_keys = group_keys[int((1 - H.valid_pct) * len(group_keys)):]"
      ],
      "outputs": [],
      "execution_count": 20,
      "metadata": {
        "gather": {
          "logged": 1638222454598
        }
      }
    },
    {
      "cell_type": "code",
      "source": [
        "print(f'users: train={len(train_group_keys)}, valid={len(valid_group_keys)}')"
      ],
      "outputs": [
        {
          "output_type": "stream",
          "name": "stdout",
          "text": "users: train=383814, valid=9842\n"
        }
      ],
      "execution_count": 21,
      "metadata": {
        "gather": {
          "logged": 1638222455195
        }
      }
    },
    {
      "cell_type": "markdown",
      "source": [
        "# Data"
      ],
      "metadata": {}
    },
    {
      "cell_type": "markdown",
      "source": [
        "## To dicts"
      ],
      "metadata": {}
    },
    {
      "cell_type": "code",
      "source": [
        "def split_dict(d, keys):\n",
        "    return { (u, t): d[u][t] for u in keys for t in d[u].keys() }"
      ],
      "outputs": [],
      "execution_count": 22,
      "metadata": {
        "gather": {
          "logged": 1638222455688
        }
      }
    },
    {
      "cell_type": "code",
      "source": [
        "train_x_cat =  split_dict(cat_d, train_group_keys)\n",
        "train_x_cont = split_dict(cont_d, train_group_keys)\n",
        "train_x_tags = split_dict(tags_d, train_group_keys)\n",
        "train_x_tagw = split_dict(tagw_d, train_group_keys)\n",
        "train_y =      split_dict(y_d, train_group_keys)"
      ],
      "outputs": [],
      "execution_count": 23,
      "metadata": {
        "gather": {
          "logged": 1638222456219
        }
      }
    },
    {
      "cell_type": "code",
      "source": [
        "valid_x_cat =  split_dict(cat_d, valid_group_keys)\n",
        "valid_x_cont = split_dict(cont_d, valid_group_keys)\n",
        "valid_x_tags = split_dict(tags_d, valid_group_keys)\n",
        "valid_x_tagw = split_dict(tagw_d, valid_group_keys)\n",
        "valid_y =      split_dict(y_d, valid_group_keys)"
      ],
      "outputs": [],
      "execution_count": 24,
      "metadata": {
        "gather": {
          "logged": 1638222456722
        }
      }
    },
    {
      "cell_type": "code",
      "source": [
        "print(f'seqs: train={len(train_x_cat)}, valid={len(valid_x_cat)}')"
      ],
      "outputs": [
        {
          "output_type": "stream",
          "name": "stdout",
          "text": "seqs: train=507050, valid=12914\n"
        }
      ],
      "execution_count": 25,
      "metadata": {
        "gather": {
          "logged": 1638222457205
        }
      }
    },
    {
      "cell_type": "markdown",
      "source": [
        "# Dataset"
      ],
      "metadata": {}
    },
    {
      "cell_type": "code",
      "source": [
        "class InteractionsDataset(Dataset):\n",
        "    def __init__(self, x_cat, x_cont, x_tags, x_tagw, y, minids=False):\n",
        "        super().__init__()\n",
        "        \n",
        "        self.means = np.expand_dims(meta.means, axis=0) # ready to broadcast\n",
        "        self.stds  = np.expand_dims(meta.stds , axis=0)\n",
        "        \n",
        "        self.n_inp = 5  # number of feature (x) tensors\n",
        "        \n",
        "        self.x_cat = x_cat  # SL, XF (sequence len, feature columns) \n",
        "        self.x_cont = x_cont\n",
        "        self.x_tags = x_tags      \n",
        "        self.x_tagw = x_tagw\n",
        "        self.y = y  # SL, 1\n",
        "        \n",
        "        self.keys = list(self.x_cat.keys()) # list of group keys\n",
        "        \n",
        "        if minids:\n",
        "            self.keys = self.keys[:H.bs*2]\n",
        "\n",
        "    def __len__(self):\n",
        "        return len(self.keys) # H.bs * 2\n",
        "\n",
        "    def __getitem__(self, idx):\n",
        "        user_id, time_slice = self.keys[idx]\n",
        "        win = range(max(0, time_slice - H.n_chunks + 1), time_slice + 1)\n",
        "        x_cat  = np.concatenate([ self.x_cat [(user_id, ts)] for ts in win ])\n",
        "        x_cont = np.concatenate([ self.x_cont[(user_id, ts)] for ts in win ])\n",
        "        x_tags = np.concatenate([ self.x_tags[(user_id, ts)] for ts in win ])\n",
        "        x_tagw = np.concatenate([ self.x_tagw[(user_id, ts)] for ts in win ])\n",
        "        y      = np.concatenate([ self.y     [(user_id, ts)] for ts in win ])\n",
        "        \n",
        "        pad = H.chunk_size * H.n_chunks - x_cat.shape[0]\n",
        "        \n",
        "        # Normalize x_cont\n",
        "        x_cont = (x_cont - self.means) / self.stds\n",
        "        x_cont[np.isnan(x_cont)] = 0\n",
        "        \n",
        "        padt = (0,pad) if H.pad == 'r' else (pad,0)\n",
        "        \n",
        "        x_mask = np.zeros(x_cat.shape[0], dtype=np.bool)\n",
        "        \n",
        "        x_mask = np.pad(x_mask, padt, constant_values=(True))\n",
        "        x_cat  = np.pad(x_cat , (padt, (0, 0)), constant_values=(0)).astype(np.int64)\n",
        "        x_cont = np.pad(x_cont, (padt, (0, 0)), constant_values=(0)).astype(np.float32)\n",
        "        x_tags = np.pad(x_tags, (padt, (0, 0)), constant_values=(0)).astype(np.int64)\n",
        "        x_tagw = np.pad(x_tagw, (padt, (0, 0)), constant_values=(0.)).astype(np.float32)\n",
        "        y      = np.pad(y,      (padt, (0, 0)), constant_values=(-1)).astype(np.int64)\n",
        "\n",
        "        return x_mask, x_cat, x_cont, x_tags, x_tagw, y"
      ],
      "outputs": [],
      "execution_count": 26,
      "metadata": {
        "gather": {
          "logged": 1638222457943
        }
      }
    },
    {
      "cell_type": "code",
      "source": [
        "train_ds = InteractionsDataset(train_x_cat, train_x_cont, train_x_tags, train_x_tagw, train_y)\n",
        "valid_ds = InteractionsDataset(valid_x_cat, valid_x_cont, valid_x_tags, valid_x_tagw, valid_y)"
      ],
      "outputs": [],
      "execution_count": 27,
      "metadata": {
        "gather": {
          "logged": 1638222458442
        }
      }
    },
    {
      "cell_type": "code",
      "source": [
        "x_mask, x_cat, x_cont, x_tags, x_tagw, y = train_ds[0]"
      ],
      "outputs": [],
      "execution_count": 28,
      "metadata": {
        "gather": {
          "logged": 1638222458908
        }
      }
    },
    {
      "cell_type": "code",
      "source": [
        "len(train_ds.keys)"
      ],
      "outputs": [
        {
          "output_type": "execute_result",
          "execution_count": 29,
          "data": {
            "text/plain": "507050"
          },
          "metadata": {}
        }
      ],
      "execution_count": 29,
      "metadata": {
        "gather": {
          "logged": 1638222459455
        }
      }
    },
    {
      "cell_type": "code",
      "source": [
        "#x_tagw[-47:]"
      ],
      "outputs": [],
      "execution_count": 30,
      "metadata": {
        "gather": {
          "logged": 1638222459943
        }
      }
    },
    {
      "cell_type": "code",
      "source": [
        "assert x_cat.shape == (H.chunk_size*H.n_chunks, len(meta.cat_names))\n",
        "assert x_cont.shape == (H.chunk_size*H.n_chunks, len(meta.cont_names))\n",
        "assert x_tags.shape == x_tagw.shape == (H.chunk_size*H.n_chunks, 6)\n",
        "assert y.shape == (H.chunk_size*H.n_chunks, 2)"
      ],
      "outputs": [],
      "execution_count": 31,
      "metadata": {
        "gather": {
          "logged": 1638222460406
        }
      }
    },
    {
      "cell_type": "code",
      "source": [
        "train_dl = DataLoader(train_ds, bs=H.bs, shuffle=True, drop_last=True, num_workers=H.workers)\n",
        "valid_dl = DataLoader(valid_ds, bs=H.bs,                               num_workers=H.workers)"
      ],
      "outputs": [],
      "execution_count": 32,
      "metadata": {
        "gather": {
          "logged": 1638222460868
        }
      }
    },
    {
      "cell_type": "code",
      "source": [
        "dls = DataLoaders(train_dl, valid_dl)"
      ],
      "outputs": [],
      "execution_count": 33,
      "metadata": {
        "gather": {
          "logged": 1638222461346
        }
      }
    },
    {
      "cell_type": "code",
      "source": [
        "x_mask,x_cat, x_cont, x_tags, x_tagw, y = dls.one_batch()"
      ],
      "outputs": [],
      "execution_count": 34,
      "metadata": {
        "gather": {
          "logged": 1638222461856
        }
      }
    },
    {
      "cell_type": "code",
      "source": [
        "np.set_printoptions(precision=4, suppress=True)\n",
        "torch.set_printoptions(precision=4, linewidth=200, sci_mode=False)"
      ],
      "outputs": [],
      "execution_count": 35,
      "metadata": {
        "gather": {
          "logged": 1638222465470
        }
      }
    },
    {
      "cell_type": "code",
      "source": [
        "x_cont[1]"
      ],
      "outputs": [
        {
          "output_type": "execute_result",
          "execution_count": 36,
          "data": {
            "text/plain": "tensor([[-0.2928, -0.3581, -0.1834,  ..., -0.0769,  0.0000,  0.0000],\n        [-0.2928, -0.3581, -0.1834,  ..., -0.0766, -0.0428, -0.6855],\n        [-0.2928, -0.3581, -0.1834,  ..., -0.0763, -0.0428, -0.6399],\n        ...,\n        [ 0.0000,  0.0000,  0.0000,  ...,  0.0000,  0.0000,  0.0000],\n        [ 0.0000,  0.0000,  0.0000,  ...,  0.0000,  0.0000,  0.0000],\n        [ 0.0000,  0.0000,  0.0000,  ...,  0.0000,  0.0000,  0.0000]])"
          },
          "metadata": {}
        }
      ],
      "execution_count": 36,
      "metadata": {
        "gather": {
          "logged": 1638222465922
        }
      }
    },
    {
      "cell_type": "code",
      "source": [
        "x_cat.shape, x_cont.shape, x_tags.shape, x_tagw.shape, y.shape"
      ],
      "outputs": [
        {
          "output_type": "execute_result",
          "execution_count": 37,
          "data": {
            "text/plain": "(torch.Size([48, 500, 11]),\n torch.Size([48, 500, 23]),\n torch.Size([48, 500, 6]),\n torch.Size([48, 500, 6]),\n torch.Size([48, 500, 2]))"
          },
          "metadata": {}
        }
      ],
      "execution_count": 37,
      "metadata": {
        "gather": {
          "logged": 1638222466331
        }
      }
    },
    {
      "cell_type": "code",
      "source": [
        "assert x_cat.isnan().any() == False\n",
        "assert x_cont.isnan().any() == False\n",
        "assert x_tags.isnan().any() == False\n",
        "assert x_tagw.isnan().any() == False"
      ],
      "outputs": [],
      "execution_count": 38,
      "metadata": {
        "gather": {
          "logged": 1638222466678
        }
      }
    },
    {
      "cell_type": "code",
      "source": [
        "assert x_cat.shape == (H.bs, H.chunk_size*H.n_chunks, len(meta.cat_names))\n",
        "assert x_cont.shape == (H.bs, H.chunk_size*H.n_chunks, len(meta.cont_names))\n",
        "assert x_tags.shape == x_tagw.shape == (H.bs, H.chunk_size*H.n_chunks, 6)\n",
        "assert y.shape == (H.bs, H.chunk_size*H.n_chunks, 2)"
      ],
      "outputs": [],
      "execution_count": 39,
      "metadata": {
        "gather": {
          "logged": 1638222466990
        }
      }
    },
    {
      "cell_type": "markdown",
      "source": [
        "# Loss and metrics"
      ],
      "metadata": {}
    },
    {
      "cell_type": "code",
      "source": [
        "def roc_auc(pred, targ):\n",
        "    pred = torch.softmax(pred, dim=2)\n",
        "    pred = pred[:,:,1:2] # prediction for True\n",
        "    idx = targ != -1\n",
        "    pred = pred[idx]\n",
        "    targ = targ[idx]\n",
        "    pred, targ = flatten_check(pred, targ)\n",
        "    if len(targ.unique()) == 2:\n",
        "        return roc_auc_score(targ.cpu().numpy(), pred.cpu().numpy())\n",
        "    else:\n",
        "        return 0"
      ],
      "outputs": [],
      "execution_count": 40,
      "metadata": {
        "gather": {
          "logged": 1638222467477
        }
      }
    },
    {
      "cell_type": "code",
      "source": [
        "loss_fn = nn.CrossEntropyLoss if H.loss=='ce' else globals()[H.loss]\n",
        "loss    = loss_fn(ignore_index=-1)\n",
        "loss_nr = loss_fn(ignore_index=-1, reduction='none')\n",
        "\n",
        "def loss_func(pred, targ, shuffle=None, lam=None):\n",
        "    b, s, l = pred.shape\n",
        "    if shuffle is not None:\n",
        "        targ_shuffled = targ[shuffle].view(b*s)\n",
        "    pred = pred.view(b*s, l)\n",
        "    targ = targ.view(b*s)\n",
        "\n",
        "    if shuffle is not None:\n",
        "        l0 = loss_nr(pred, targ).view(b, s)\n",
        "        l1 = loss_nr(pred, targ_shuffled).view(b, s)\n",
        "        return torch.lerp(l0, l1, lam.view(lam.shape[0], 1)).mean()\n",
        "    else:\n",
        "        #print(targ.unique()) # CUDA assert error if any index here is bigger than dimension l (labels) of pred\n",
        "        return loss(pred, targ)\n",
        "    \n",
        "def ua_loss_func(pred, targ, shuffle=None, lam=None):\n",
        "    loss_fn = loss_func\n",
        "    l = loss_fn(pred[...,:2],targ[...,:1],shuffle,lam) \n",
        "    if H.wua and targ.shape[-1]>1: l += H.wua * loss_fn(pred[...,2:],targ[...,1:],shuffle,lam)\n",
        "    return l"
      ],
      "outputs": [],
      "execution_count": 41,
      "metadata": {
        "gather": {
          "logged": 1638222467792
        }
      }
    },
    {
      "cell_type": "code",
      "source": [
        "#noexport\n",
        "_p = torch.zeros([32, 127, 6])\n",
        "_t = torch.empty ([32, 127,2]).type(torch.long)\n",
        "_t[...,0] = torch.randint(2,_t.shape[:2])\n",
        "_t[...,1] = torch.randint(4,_t.shape[:2])"
      ],
      "outputs": [],
      "execution_count": 42,
      "metadata": {
        "gather": {
          "logged": 1638222468095
        }
      }
    },
    {
      "cell_type": "code",
      "source": [
        "#noexport\n",
        "roc_auc(_p[...,:2], _t[...,:1])"
      ],
      "outputs": [
        {
          "output_type": "execute_result",
          "execution_count": 43,
          "data": {
            "text/plain": "0.5"
          },
          "metadata": {}
        }
      ],
      "execution_count": 43,
      "metadata": {
        "gather": {
          "logged": 1638222468399
        }
      }
    },
    {
      "cell_type": "code",
      "source": [
        "#noexport\n",
        "loss_func(_p[...,:2], _t[...,:1])"
      ],
      "outputs": [
        {
          "output_type": "execute_result",
          "execution_count": 44,
          "data": {
            "text/plain": "tensor(0.6931)"
          },
          "metadata": {}
        }
      ],
      "execution_count": 44,
      "metadata": {
        "gather": {
          "logged": 1638222468782
        }
      }
    },
    {
      "cell_type": "code",
      "source": [
        "#noexport\n",
        "ua_loss_func(_p, _t)"
      ],
      "outputs": [
        {
          "output_type": "execute_result",
          "execution_count": 45,
          "data": {
            "text/plain": "tensor(0.6931)"
          },
          "metadata": {}
        }
      ],
      "execution_count": 45,
      "metadata": {
        "gather": {
          "logged": 1638222469093
        }
      }
    },
    {
      "cell_type": "code",
      "source": [
        "class LBMetric(Metric):\n",
        "    def __init__(self, loss_func, name):\n",
        "        self.loss_func = loss_func\n",
        "        self.nam = name\n",
        "        \n",
        "    def reset(self):\n",
        "        self.targs, self.preds = [], []\n",
        "        \n",
        "    def accumulate(self, learn):\n",
        "        self.preds.append(learn.to_detach(learn.pred[...,:2]))\n",
        "        self.targs.append(learn.to_detach(learn.y[...,:1]))\n",
        "    \n",
        "    @property\n",
        "    def value(self):\n",
        "        if len(self.preds) == 0: return\n",
        "        preds = torch.cat(self.preds)\n",
        "        targs = torch.cat(self.targs)\n",
        "        r = self.loss_func(preds, targs)\n",
        "        return r\n",
        "    \n",
        "    @property\n",
        "    def name(self):\n",
        "        return self.nam"
      ],
      "outputs": [],
      "execution_count": 46,
      "metadata": {
        "gather": {
          "logged": 1638222469378
        }
      }
    },
    {
      "cell_type": "markdown",
      "source": [
        "# Mixup"
      ],
      "metadata": {}
    },
    {
      "cell_type": "code",
      "source": [
        "#noexport\n",
        "lam = Beta(0.5, 0.5).sample((10000,))\n",
        "lam = torch.stack([lam, 1-lam], 1)\n",
        "lam = lam.max(1)[0].numpy()\n",
        "_ = plt.hist(lam, bins=100)"
      ],
      "outputs": [
        {
          "output_type": "display_data",
          "data": {
            "text/plain": "<Figure size 432x288 with 1 Axes>",
            "image/png": "[encoded data removed]"
          },
          "metadata": {
            "needs_background": "light"
          }
        }
      ],
      "execution_count": 47,
      "metadata": {
        "gather": {
          "logged": 1638222469870
        }
      }
    },
    {
      "cell_type": "code",
      "source": [
        "class MyMixUp(Callback):\n",
        "    run_after,run_valid = [Normalize],False\n",
        "    def __init__(self, alpha=0.4): \n",
        "        self.distrib = Beta(tensor(alpha), tensor(alpha))\n",
        "\n",
        "    def before_batch(self):\n",
        "        lam = self.distrib.sample((self.y.size(0),)).squeeze().to(self.y.device)\n",
        "        lam = torch.stack([lam, 1-lam], 1)\n",
        "        lam = lam.max(1)[0]\n",
        "        shuffle = torch.randperm(self.y.size(0)).to(self.y.device)\n",
        "        self.learn.xb = (*self.xb, shuffle, lam)\n",
        "        self.learn.yb = (*self.yb, shuffle, lam)"
      ],
      "outputs": [],
      "execution_count": 48,
      "metadata": {
        "gather": {
          "logged": 1638222470181
        }
      }
    },
    {
      "cell_type": "code",
      "source": [
        "class GradientClipping(Callback):\n",
        "    \"Gradient clipping during training.\"\n",
        "    def __init__(self, clip:float = 0.):\n",
        "        self.clip = clip\n",
        "\n",
        "    def after_backward(self, **kwargs):\n",
        "        \"Clip the gradient before the optimizer step.\"\n",
        "        if self.clip: nn.utils.clip_grad_norm_(self.learn.model.parameters(), self.clip)"
      ],
      "outputs": [],
      "execution_count": 49,
      "metadata": {
        "gather": {
          "logged": 1638222470520
        }
      }
    },
    {
      "cell_type": "markdown",
      "source": [
        "# Model"
      ],
      "metadata": {}
    },
    {
      "cell_type": "code",
      "source": [
        "class TutorNet(nn.Module):\n",
        "    def __init__(self, emb_szs, tag_emb_szs, emb_do, n_cont, trf_dim, trf_enc, trf_dec, trf_heads, trf_do, trf_act):\n",
        "        super().__init__()\n",
        "        self.nhead,self.trf_dim = trf_heads, trf_dim\n",
        "        \n",
        "        tag_emb_szs =(tag_emb_szs[0]+1, trf_dim)\n",
        "\n",
        "        self.embeds    = nn.ModuleList([nn.Sequential(nn.Embedding(ni+1, nf, max_norm=1.),nn.Linear(nf, trf_dim)) \n",
        "                                        for ni, nf in emb_szs])\n",
        "        self.tagembeds = nn.EmbeddingBag(*tag_emb_szs, max_norm=1., mode='sum')\n",
        "        self.conts     = nn.Linear(n_cont, trf_dim)\n",
        "            \n",
        "        self.trafo = nn.Transformer(\n",
        "            d_model = trf_dim,\n",
        "            nhead = trf_heads,\n",
        "            num_encoder_layers = trf_enc,\n",
        "            num_decoder_layers = trf_dec,\n",
        "            dim_feedforward = trf_dim*4,\n",
        "            dropout = trf_do,\n",
        "            activation = trf_act,\n",
        "        )\n",
        "\n",
        "        self.mlp = nn.Linear(trf_dim, 6)\n",
        "        \n",
        "    def forward(self, x_mask, x_cat, x_cont, x_tags, x_tagw, shuffle=None, lam=None):\n",
        "        b, sl, catf, contf, tagsf = (*x_cat.shape, x_cont.shape[2], x_tags.shape[2])\n",
        "        \n",
        "        x_cat  += 1\n",
        "        x_tags += 1\n",
        "    \n",
        "        # compute masks\n",
        "        causal_mask  = torch.triu(torch.ones(1,sl, sl,dtype=torch.bool,device=x_cat.device), diagonal=1).expand(b,-1,-1)\n",
        "        x_tci   = x_cat[...,Cats.task_container_id]\n",
        "        x_tci_s = torch.zeros_like(x_tci)\n",
        "        x_tci_s[...,1:] = x_tci[...,:-1]\n",
        "        enc_container_aware_mask =  (x_tci.unsqueeze(-1) == x_tci_s.unsqueeze(-1).permute(0,2,1)) | causal_mask\n",
        "        dec_container_aware_mask = ~(x_tci.unsqueeze(-1) == x_tci.unsqueeze(-1).permute(0,2,1))   & causal_mask\n",
        "\n",
        "        padding_mask = x_mask \n",
        "                \n",
        "        # encoder x (shifted q & a)\n",
        "        enc_cat  = torch.zeros_like(x_cat)\n",
        "        enc_cont = torch.zeros_like(x_cont)\n",
        "        enc_tags = torch.zeros_like(x_tags)\n",
        "        enc_tagw = torch.zeros_like(x_tagw)\n",
        "        \n",
        "        enc_cat[:,1:]  = x_cat[:,:-1]\n",
        "        enc_cont[:,1:] = x_cont[:,:-1]\n",
        "        enc_tags[:,1:] = x_tags[:,:-1]\n",
        "        enc_tagw[:,1:] = x_tagw[:,:-1]\n",
        "        \n",
        "        # decoder x (nonshifted q)\n",
        "        dec_cat  = x_cat\n",
        "        dec_cont = x_cont\n",
        "        dec_tags = x_tags\n",
        "        dec_tagw = x_tagw\n",
        "\n",
        "        # hide correct answer and user answered correctly from decoder\n",
        "        dec_cat[...,Cats.answered_correctly] = 0\n",
        "        dec_cat[...,Cats.user_answer] = 0\n",
        "        dec_cat[...,Cats.qhe] = 0\n",
        "        dec_cont[...,Conts.qet] = 0\n",
        "        dec_cont[...,Conts.qet_log] = 0\n",
        "        \n",
        "        # print(enc_cont.shape)\n",
        "        enc_cat  =  enc_cat.view(b * sl, catf)   # b*sl, catf\n",
        "        enc_tags = enc_tags.view(b * sl, tagsf) # b*sl, tagsf\n",
        "        enc_tagw = enc_tagw.view(b * sl, tagsf) # b*sl, tagsf\n",
        "\n",
        "        dec_cat  =  dec_cat.view(b * sl, catf)   # b*sl, catf\n",
        "        dec_tags = dec_tags.view(b * sl, tagsf) # b*sl, tagsf\n",
        "        dec_tagw = dec_tagw.view(b * sl, tagsf) # b*sl, tagsf\n",
        "        \n",
        "        # embed categorical vars\n",
        "        enc = torch.mean(torch.stack([\n",
        "            *[ e(enc_cat[:,i]) for i, e in enumerate(self.embeds) ],\n",
        "            self.tagembeds(enc_tags, per_sample_weights=enc_tagw),\n",
        "            self.conts(enc_cont).view(-1,self.trf_dim)\n",
        "        ]),dim=0)\n",
        "        \n",
        "        dec = torch.mean(torch.stack([\n",
        "            *[ e(dec_cat[:,i]) for i, e in enumerate(self.embeds) ],\n",
        "            self.tagembeds(dec_tags, per_sample_weights=dec_tagw),\n",
        "            self.conts(dec_cont).view(-1,self.trf_dim)\n",
        "        ]),dim=0)\n",
        "        \n",
        "        enc = enc.view(b, sl, self.trf_dim)           # b, sl, sum of cat, cont and tag ftrs\n",
        "        dec = dec.view(b, sl, self.trf_dim)           # b, sl, sum of cat, cont and tag ftrs\n",
        "\n",
        "        if shuffle is not None:\n",
        "            enc = torch.lerp(enc, enc[shuffle], lam.view(lam.shape[0], 1, 1))\n",
        "            dec = torch.lerp(dec, dec[shuffle], lam.view(lam.shape[0], 1, 1))\n",
        "            padding_mask = None\n",
        "            enc_container_aware_mask = dec_container_aware_mask = causal_mask | causal_mask[shuffle]\n",
        "        \n",
        "        enc = enc.permute(1, 0, 2)          # sl, b, tf (torchformer input)\n",
        "        dec = dec.permute(1, 0, 2)          # sl, b, tf\n",
        "\n",
        "        expand_nheads = lambda t: t.unsqueeze(1).expand(t.shape[0],self.nhead,-1,-1).reshape(-1,*t.shape[-2:])\n",
        "        \n",
        "        o = self.trafo(\n",
        "            enc, \n",
        "            dec, \n",
        "            src_mask = expand_nheads(enc_container_aware_mask),\n",
        "            tgt_mask = expand_nheads(dec_container_aware_mask),\n",
        "            memory_mask = expand_nheads(enc_container_aware_mask),\n",
        "            src_key_padding_mask = padding_mask,\n",
        "            tgt_key_padding_mask = padding_mask,\n",
        "            memory_key_padding_mask = padding_mask,\n",
        "        )                                   # sl, b, tf\n",
        "        o = o.permute(1, 0, 2)              # b, sl, tf\n",
        "        o = self.mlp(o)                     # b, sl, of (of=2)\n",
        "        #print(o)\n",
        "        return o"
      ],
      "outputs": [],
      "execution_count": 50,
      "metadata": {
        "gather": {
          "logged": 1638222470923
        }
      }
    },
    {
      "cell_type": "code",
      "source": [
        "emb_szs = list(zip(meta.n_emb.values(), meta.emb_dim.values()))\n",
        "tag_emb_szs = meta.tags_n_emb, meta.tags_emb_dim"
      ],
      "outputs": [],
      "execution_count": 51,
      "metadata": {
        "gather": {
          "logged": 1638222471238
        }
      }
    },
    {
      "cell_type": "code",
      "source": [
        "model = TutorNet(emb_szs, tag_emb_szs, None, len(meta.cont_names), \n",
        "                 H.trf_dim, H.trf_enc, H.trf_dec, H.trf_heads, H.trf_do, H.trf_act)"
      ],
      "outputs": [],
      "execution_count": 52,
      "metadata": {
        "gather": {
          "logged": 1638222471563
        }
      }
    },
    {
      "cell_type": "markdown",
      "source": [
        "# T-Fixup init\n",
        "\n",
        "1. Apply Xavier initialization for all parameters excluding input embeddings. Use Gaussian initialization $N(0,d^{-\\frac{1}{2}})$ for input embeddings where d is the embedding dimension.\n",
        "\n",
        "2. Scale $v_{d}$ and $w_{d}$ matrices in each decoder attention block, weight matrices in each decoder MLP block and input embeddings $x$ and $y$ in encoder and decoder by $(9N)^{−\\frac{1}{4}}$: [code](https://github.com/layer6ai-labs/T-Fixup/blob/f1fae213ce7b48829f81632d0c96bb039b7c450e/fairseq/modules/transformer_layer.py#L161), [code](https://github.com/layer6ai-labs/T-Fixup/blob/f1fae213ce7b48829f81632d0c96bb039b7c450e/fairseq/models/transformer.py#L378), [code](https://github.com/layer6ai-labs/T-Fixup/blob/f1fae213ce7b48829f81632d0c96bb039b7c450e/fairseq/models/transformer.py#L604)\n",
        "\n",
        "3. Scale $v_{e}$ and $w_{e}$ matrices in each encoder attention block and weight matrices in each encoder MLP block by $0.67N^{−\\frac{1}{4}}$: [code](https://github.com/layer6ai-labs/T-Fixup/blob/f1fae213ce7b48829f81632d0c96bb039b7c450e/fairseq/modules/transformer_layer.py#L36)"
      ],
      "metadata": {}
    },
    {
      "cell_type": "code",
      "source": [
        "def trunc_normal_(x, mean=0., std=1.):\n",
        "    \"Truncated normal initialization (approximation)\"\n",
        "    # From https://discuss.pytorch.org/t/implementing-truncated-normal-initializer/4778/12\n",
        "    return x.normal_().fmod_(2).mul_(std).add_(mean)"
      ],
      "outputs": [],
      "execution_count": 53,
      "metadata": {
        "gather": {
          "logged": 1638222471959
        }
      }
    },
    {
      "cell_type": "code",
      "source": [
        "if H.tfixup:\n",
        "    for n,p in model.named_parameters():\n",
        "        if re.match(r'.*bias$|.*bn\\.weight$|.*norm.*\\.weight',n): continue\n",
        "        gain = 1.\n",
        "        if re.match(r'.*decoder.*',n): \n",
        "            gain = (9*H.trf_dec)**(-1./4.)\n",
        "            if re.match(f'.*in_proj_weight$',n): gain *= (2**0.5)\n",
        "        elif re.match(r'.*encoder.*',n): \n",
        "            gain = 0.67*(H.trf_enc**(-1./4.))\n",
        "            if re.match(f'.*in_proj_weight$',n): gain *= (2**0.5)\n",
        "        if re.match(r'^embeds|^tagembeds', n): \n",
        "            trunc_normal_(p.data,std=(4.5*(H.trf_enc+H.trf_dec))**(-1./4.)*H.trf_dim**(-0.5))\n",
        "        else:                                  \n",
        "            nn.init.xavier_normal_(p,gain=gain)"
      ],
      "outputs": [],
      "execution_count": 54,
      "metadata": {
        "gather": {
          "logged": 1638222472291
        }
      }
    },
    {
      "cell_type": "code",
      "source": [
        "if H.tfixup:\n",
        "    class MyModelPatcher(ModelPatcher):\n",
        "        def new_child_module(self, child_module_name, child_module, patch_info): return nn.Identity()\n",
        "    mp = MyModelPatcher()\n",
        "    mp.add_pattern(r\".*norm\\d?.*\",{})\n",
        "    mp.patch_model(model)"
      ],
      "outputs": [],
      "execution_count": 55,
      "metadata": {
        "gather": {
          "logged": 1638222472617
        }
      }
    },
    {
      "cell_type": "code",
      "source": [
        "#noexport\n",
        "model"
      ],
      "outputs": [
        {
          "output_type": "execute_result",
          "execution_count": 56,
          "data": {
            "text/plain": "TutorNet(\n  (embeds): ModuleList(\n    (0): Sequential(\n      (0): Embedding(3, 1, max_norm=1.0)\n      (1): Linear(in_features=1, out_features=512, bias=True)\n    )\n    (1): Sequential(\n      (0): Embedding(5, 3, max_norm=1.0)\n      (1): Linear(in_features=3, out_features=512, bias=True)\n    )\n    (2): Sequential(\n      (0): Embedding(9767, 274, max_norm=1.0)\n      (1): Linear(in_features=274, out_features=512, bias=True)\n    )\n    (3): Sequential(\n      (0): Embedding(6, 4, max_norm=1.0)\n      (1): Linear(in_features=4, out_features=512, bias=True)\n    )\n    (4): Sequential(\n      (0): Embedding(420, 47, max_norm=1.0)\n      (1): Linear(in_features=47, out_features=512, bias=True)\n    )\n    (5): Sequential(\n      (0): Embedding(9, 5, max_norm=1.0)\n      (1): Linear(in_features=5, out_features=512, bias=True)\n    )\n    (6): Sequential(\n      (0): Embedding(4, 3, max_norm=1.0)\n      (1): Linear(in_features=3, out_features=512, bias=True)\n    )\n    (7): Sequential(\n      (0): Embedding(13525, 329, max_norm=1.0)\n      (1): Linear(in_features=329, out_features=512, bias=True)\n    )\n    (8): Sequential(\n      (0): Embedding(10002, 278, max_norm=1.0)\n      (1): Linear(in_features=278, out_features=512, bias=True)\n    )\n    (9): Sequential(\n      (0): Embedding(6, 4, max_norm=1.0)\n      (1): Linear(in_features=4, out_features=512, bias=True)\n    )\n    (10): Sequential(\n      (0): Embedding(7, 4, max_norm=1.0)\n      (1): Linear(in_features=4, out_features=512, bias=True)\n    )\n  )\n  (tagembeds): EmbeddingBag(190, 512, max_norm=1.0, mode=sum)\n  (conts): Linear(in_features=23, out_features=512, bias=True)\n  (trafo): Transformer(\n    (encoder): TransformerEncoder(\n      (layers): ModuleList(\n        (0): TransformerEncoderLayer(\n          (self_attn): MultiheadAttention(\n            (out_proj): NonDynamicallyQuantizableLinear(in_features=512, out_features=512, bias=True)\n          )\n          (linear1): Linear(in_features=512, out_features=2048, bias=True)\n          (dropout): Dropout(p=0.1, inplace=False)\n          (linear2): Linear(in_features=2048, out_features=512, bias=True)\n          (norm1): Identity()\n          (norm2): Identity()\n          (dropout1): Dropout(p=0.1, inplace=False)\n          (dropout2): Dropout(p=0.1, inplace=False)\n        )\n        (1): TransformerEncoderLayer(\n          (self_attn): MultiheadAttention(\n            (out_proj): NonDynamicallyQuantizableLinear(in_features=512, out_features=512, bias=True)\n          )\n          (linear1): Linear(in_features=512, out_features=2048, bias=True)\n          (dropout): Dropout(p=0.1, inplace=False)\n          (linear2): Linear(in_features=2048, out_features=512, bias=True)\n          (norm1): Identity()\n          (norm2): Identity()\n          (dropout1): Dropout(p=0.1, inplace=False)\n          (dropout2): Dropout(p=0.1, inplace=False)\n        )\n        (2): TransformerEncoderLayer(\n          (self_attn): MultiheadAttention(\n            (out_proj): NonDynamicallyQuantizableLinear(in_features=512, out_features=512, bias=True)\n          )\n          (linear1): Linear(in_features=512, out_features=2048, bias=True)\n          (dropout): Dropout(p=0.1, inplace=False)\n          (linear2): Linear(in_features=2048, out_features=512, bias=True)\n          (norm1): Identity()\n          (norm2): Identity()\n          (dropout1): Dropout(p=0.1, inplace=False)\n          (dropout2): Dropout(p=0.1, inplace=False)\n        )\n        (3): TransformerEncoderLayer(\n          (self_attn): MultiheadAttention(\n            (out_proj): NonDynamicallyQuantizableLinear(in_features=512, out_features=512, bias=True)\n          )\n          (linear1): Linear(in_features=512, out_features=2048, bias=True)\n          (dropout): Dropout(p=0.1, inplace=False)\n          (linear2): Linear(in_features=2048, out_features=512, bias=True)\n          (norm1): Identity()\n          (norm2): Identity()\n          (dropout1): Dropout(p=0.1, inplace=False)\n          (dropout2): Dropout(p=0.1, inplace=False)\n        )\n      )\n      (norm): Identity()\n    )\n    (decoder): TransformerDecoder(\n      (layers): ModuleList(\n        (0): TransformerDecoderLayer(\n          (self_attn): MultiheadAttention(\n            (out_proj): NonDynamicallyQuantizableLinear(in_features=512, out_features=512, bias=True)\n          )\n          (multihead_attn): MultiheadAttention(\n            (out_proj): NonDynamicallyQuantizableLinear(in_features=512, out_features=512, bias=True)\n          )\n          (linear1): Linear(in_features=512, out_features=2048, bias=True)\n          (dropout): Dropout(p=0.1, inplace=False)\n          (linear2): Linear(in_features=2048, out_features=512, bias=True)\n          (norm1): Identity()\n          (norm2): Identity()\n          (norm3): Identity()\n          (dropout1): Dropout(p=0.1, inplace=False)\n          (dropout2): Dropout(p=0.1, inplace=False)\n          (dropout3): Dropout(p=0.1, inplace=False)\n        )\n        (1): TransformerDecoderLayer(\n          (self_attn): MultiheadAttention(\n            (out_proj): NonDynamicallyQuantizableLinear(in_features=512, out_features=512, bias=True)\n          )\n          (multihead_attn): MultiheadAttention(\n            (out_proj): NonDynamicallyQuantizableLinear(in_features=512, out_features=512, bias=True)\n          )\n          (linear1): Linear(in_features=512, out_features=2048, bias=True)\n          (dropout): Dropout(p=0.1, inplace=False)\n          (linear2): Linear(in_features=2048, out_features=512, bias=True)\n          (norm1): Identity()\n          (norm2): Identity()\n          (norm3): Identity()\n          (dropout1): Dropout(p=0.1, inplace=False)\n          (dropout2): Dropout(p=0.1, inplace=False)\n          (dropout3): Dropout(p=0.1, inplace=False)\n        )\n        (2): TransformerDecoderLayer(\n          (self_attn): MultiheadAttention(\n            (out_proj): NonDynamicallyQuantizableLinear(in_features=512, out_features=512, bias=True)\n          )\n          (multihead_attn): MultiheadAttention(\n            (out_proj): NonDynamicallyQuantizableLinear(in_features=512, out_features=512, bias=True)\n          )\n          (linear1): Linear(in_features=512, out_features=2048, bias=True)\n          (dropout): Dropout(p=0.1, inplace=False)\n          (linear2): Linear(in_features=2048, out_features=512, bias=True)\n          (norm1): Identity()\n          (norm2): Identity()\n          (norm3): Identity()\n          (dropout1): Dropout(p=0.1, inplace=False)\n          (dropout2): Dropout(p=0.1, inplace=False)\n          (dropout3): Dropout(p=0.1, inplace=False)\n        )\n        (3): TransformerDecoderLayer(\n          (self_attn): MultiheadAttention(\n            (out_proj): NonDynamicallyQuantizableLinear(in_features=512, out_features=512, bias=True)\n          )\n          (multihead_attn): MultiheadAttention(\n            (out_proj): NonDynamicallyQuantizableLinear(in_features=512, out_features=512, bias=True)\n          )\n          (linear1): Linear(in_features=512, out_features=2048, bias=True)\n          (dropout): Dropout(p=0.1, inplace=False)\n          (linear2): Linear(in_features=2048, out_features=512, bias=True)\n          (norm1): Identity()\n          (norm2): Identity()\n          (norm3): Identity()\n          (dropout1): Dropout(p=0.1, inplace=False)\n          (dropout2): Dropout(p=0.1, inplace=False)\n          (dropout3): Dropout(p=0.1, inplace=False)\n        )\n      )\n      (norm): Identity()\n    )\n  )\n  (mlp): Linear(in_features=512, out_features=6, bias=True)\n)"
          },
          "metadata": {}
        }
      ],
      "execution_count": 56,
      "metadata": {
        "gather": {
          "logged": 1638222473030
        }
      }
    },
    {
      "cell_type": "code",
      "source": [
        "dls = dls.cuda()\n",
        "model = model.cuda()"
      ],
      "outputs": [],
      "execution_count": 57,
      "metadata": {
        "gather": {
          "logged": 1638222479497
        }
      }
    },
    {
      "cell_type": "code",
      "source": [
        "@delegates(Lamb)\n",
        "def ranger_lamb(p, lr, mom=0.95, wd=0.01, eps=1e-6, **kwargs):\n",
        "    return Lookahead(Lamb(p, lr=lr, mom=mom, wd=wd, eps=eps, **kwargs))"
      ],
      "outputs": [],
      "execution_count": 58,
      "metadata": {
        "gather": {
          "logged": 1638222479871
        }
      }
    },
    {
      "cell_type": "code",
      "source": [
        "learn = Learner(\n",
        "    dls,\n",
        "    model,\n",
        "    loss_func=ua_loss_func,\n",
        "    opt_func=partial(globals()[H.opt],**H.opt_kwargs),\n",
        "    moms = H.moms,\n",
        "    metrics=[\n",
        "        LBMetric(loss_func, 'acc_valid_loss'),\n",
        "        LBMetric(roc_auc, 'acc_roc_auc'),\n",
        "    ],\n",
        ")"
      ],
      "outputs": [],
      "execution_count": 59,
      "metadata": {
        "gather": {
          "logged": 1638222480236
        }
      }
    },
    {
      "cell_type": "code",
      "source": [
        "f_fp16 = getattr(learn,H.fp16,None)\n",
        "if f_fp16: f_fp16()"
      ],
      "outputs": [],
      "execution_count": 60,
      "metadata": {
        "gather": {
          "logged": 1638222480543
        }
      }
    },
    {
      "cell_type": "code",
      "source": [
        "def rank0_only(func, *args, **kwargs):\n",
        "    \"Execute `func` in the Rank-0 process first, then in other ranks in parallel.\"\n",
        "    if args or kwargs: func = partial(func, *args, **kwargs)\n",
        "    dummy_l = Learner(DataLoaders(device='cpu'), nn.Linear(1,1), loss_func=lambda: 0)\n",
        "    res = None\n",
        "    with dummy_l.distrib_ctx():\n",
        "        if not rank_distrib(): res = func()\n",
        "        distrib_barrier()\n",
        "    return res"
      ],
      "outputs": [],
      "execution_count": 61,
      "metadata": {
        "gather": {
          "logged": 1638222480851
        }
      }
    },
    {
      "cell_type": "code",
      "source": [
        "@patch\n",
        "def load(learn:Learner,fn,with_opt=False):\n",
        "    def __inner(learn:Learner,fn,with_opt=False):\n",
        "        m_dict = torch.load(f\"{(Path(learn.model_dir) / fn)}.pth\")#['model']\n",
        "        ks = []\n",
        "        for attempts in range(2):\n",
        "            try:\n",
        "                res = learn.model.load_state_dict(m_dict,strict=False)\n",
        "                print(f\"Loaded {fn} ignoring: {' '.join(ks)} and {res}\")\n",
        "                break\n",
        "            except Exception as e:\n",
        "                for k in [m[1] for m in [re.match(r\"^.*mismatch for ([\\w\\.]+):\",l) for l in str(e).split(\"\\n\")] if m is not None]:\n",
        "                    m_dict.pop(k,None)\n",
        "                    ks.append(k)\n",
        "        return learn\n",
        "    return rank0_only(__inner, learn, fn, with_opt)"
      ],
      "outputs": [],
      "execution_count": 62,
      "metadata": {
        "gather": {
          "logged": 1638222481471
        }
      }
    },
    {
      "cell_type": "markdown",
      "source": [
        "# Load model"
      ],
      "metadata": {}
    },
    {
      "cell_type": "code",
      "source": [
        "if H.load:\n",
        "    learn.load(H.load, with_opt=False)\n",
        "    print(f\"Loaded: {H.load}\")"
      ],
      "outputs": [],
      "execution_count": 63,
      "metadata": {
        "gather": {
          "logged": 1638222481806
        }
      }
    },
    {
      "cell_type": "code",
      "source": [
        "if H.clip: \n",
        "    learn.add_cb(GradientClipping(H.clip))\n",
        "    print('clip on')"
      ],
      "outputs": [],
      "execution_count": 64,
      "metadata": {
        "gather": {
          "logged": 1638222482189
        }
      }
    },
    {
      "cell_type": "code",
      "source": [
        "if H.local_rank is not None: \n",
        "    learn.to_distributed(H.local_rank)\n",
        "    print('local_rank on')\n",
        "if H.mixup: \n",
        "    learn.add_cb(MyMixUp(0.5))\n",
        "    print('mixup on')"
      ],
      "outputs": [],
      "execution_count": 65,
      "metadata": {
        "gather": {
          "logged": 1638222482567
        }
      }
    },
    {
      "cell_type": "code",
      "source": [
        "if H.validate:\n",
        "    res = learn.validate()\n",
        "    print(f\"CV: {res[-1]}\")"
      ],
      "outputs": [],
      "execution_count": 66,
      "metadata": {
        "gather": {
          "logged": 1638222483088
        }
      }
    },
    {
      "cell_type": "code",
      "source": [
        "#noexport\n",
        "learn.summary()"
      ],
      "outputs": [
        {
          "output_type": "display_data",
          "data": {
            "text/plain": "<IPython.core.display.HTML object>",
            "text/html": ""
          },
          "metadata": {}
        },
        {
          "output_type": "execute_result",
          "execution_count": 67,
          "data": {
            "text/plain": "TutorNet (Input shape: 48 x 500)\n============================================================================\nLayer (type)         Output Shape         Param #    Trainable \n============================================================================\n                     48 x 1              \nEmbedding                                 3          True      \n____________________________________________________________________________\n                     48 x 512            \nLinear                                    1024       True      \n____________________________________________________________________________\n                     48 x 3              \nEmbedding                                 15         True      \n____________________________________________________________________________\n                     48 x 512            \nLinear                                    2048       True      \n____________________________________________________________________________\n                     48 x 274            \nEmbedding                                 2676158    True      \n____________________________________________________________________________\n                     48 x 512            \nLinear                                    140800     True      \n____________________________________________________________________________\n                     48 x 4              \nEmbedding                                 24         True      \n____________________________________________________________________________\n                     48 x 512            \nLinear                                    2560       True      \n____________________________________________________________________________\n                     48 x 47             \nEmbedding                                 19740      True      \n____________________________________________________________________________\n                     48 x 512            \nLinear                                    24576      True      \n____________________________________________________________________________\n                     48 x 5              \nEmbedding                                 45         True      \n____________________________________________________________________________\n                     48 x 512            \nLinear                                    3072       True      \n____________________________________________________________________________\n                     48 x 3              \nEmbedding                                 12         True      \n____________________________________________________________________________\n                     48 x 512            \nLinear                                    2048       True      \n____________________________________________________________________________\n                     48 x 329            \nEmbedding                                 4449725    True      \n____________________________________________________________________________\n                     48 x 512            \nLinear                                    168960     True      \n____________________________________________________________________________\n                     48 x 278            \nEmbedding                                 2780556    True      \n____________________________________________________________________________\n                     48 x 512            \nLinear                                    142848     True      \n____________________________________________________________________________\n                     48 x 4              \nEmbedding                                 24         True      \n____________________________________________________________________________\n                     48 x 512            \nLinear                                    2560       True      \n____________________________________________________________________________\n                     48 x 4              \nEmbedding                                 28         True      \n____________________________________________________________________________\n                     48 x 512            \nLinear                                    2560       True      \nEmbeddingBag                              97280      True      \n____________________________________________________________________________\n                     48 x 500 x 512      \nLinear                                    12288      True      \n____________________________________________________________________________\n                     48 x 1 x 2048       \nLinear                                    1050624    True      \nDropout                                                        \n____________________________________________________________________________\n                     48 x 1 x 512        \nLinear                                    1049088    True      \nIdentity                                                       \nIdentity                                                       \nDropout                                                        \nDropout                                                        \n____________________________________________________________________________\n                     48 x 1 x 2048       \nLinear                                    1050624    True      \nDropout                                                        \n____________________________________________________________________________\n                     48 x 1 x 512        \nLinear                                    1049088    True      \nIdentity                                                       \nIdentity                                                       \nDropout                                                        \nDropout                                                        \n____________________________________________________________________________\n                     48 x 1 x 2048       \nLinear                                    1050624    True      \nDropout                                                        \n____________________________________________________________________________\n                     48 x 1 x 512        \nLinear                                    1049088    True      \nIdentity                                                       \nIdentity                                                       \nDropout                                                        \nDropout                                                        \n____________________________________________________________________________\n                     48 x 1 x 2048       \nLinear                                    1050624    True      \nDropout                                                        \n____________________________________________________________________________\n                     48 x 1 x 512        \nLinear                                    1049088    True      \nIdentity                                                       \nIdentity                                                       \nDropout                                                        \nDropout                                                        \nIdentity                                                       \n____________________________________________________________________________\n                     48 x 1 x 2048       \nLinear                                    1050624    True      \nDropout                                                        \n____________________________________________________________________________\n                     48 x 1 x 512        \nLinear                                    1049088    True      \nIdentity                                                       \nIdentity                                                       \nIdentity                                                       \nDropout                                                        \nDropout                                                        \nDropout                                                        \n____________________________________________________________________________\n                     48 x 1 x 2048       \nLinear                                    1050624    True      \nDropout                                                        \n____________________________________________________________________________\n                     48 x 1 x 512        \nLinear                                    1049088    True      \nIdentity                                                       \nIdentity                                                       \nIdentity                                                       \nDropout                                                        \nDropout                                                        \nDropout                                                        \n____________________________________________________________________________\n                     48 x 1 x 2048       \nLinear                                    1050624    True      \nDropout                                                        \n____________________________________________________________________________\n                     48 x 1 x 512        \nLinear                                    1049088    True      \nIdentity                                                       \nIdentity                                                       \nIdentity                                                       \nDropout                                                        \nDropout                                                        \nDropout                                                        \n____________________________________________________________________________\n                     48 x 1 x 2048       \nLinear                                    1050624    True      \nDropout                                                        \n____________________________________________________________________________\n                     48 x 1 x 512        \nLinear                                    1049088    True      \nIdentity                                                       \nIdentity                                                       \nIdentity                                                       \nDropout                                                        \nDropout                                                        \nDropout                                                        \nIdentity                                                       \n____________________________________________________________________________\n                     48 x 500 x 6        \nLinear                                    3078       True      \n____________________________________________________________________________\n\nTotal params: 27,329,728\nTotal trainable params: 27,329,728\nTotal non-trainable params: 0\n\nOptimizer used: functools.partial(<function ranger_lamb at 0x7f4ef40e9310>)\nLoss function: <function ua_loss_func at 0x7f4ef8276160>\n\nCallbacks:\n  - TrainEvalCallback\n  - MixedPrecision\n  - Recorder\n  - ProgressCallback"
          },
          "metadata": {}
        }
      ],
      "execution_count": 67,
      "metadata": {
        "gather": {
          "logged": 1638222485016
        }
      }
    },
    {
      "cell_type": "markdown",
      "source": [
        "# Train"
      ],
      "metadata": {}
    },
    {
      "cell_type": "code",
      "source": [
        "#noexport\n",
        "#learn.lr_find()"
      ],
      "outputs": [],
      "execution_count": 68,
      "metadata": {
        "gather": {
          "logged": 1638222485391
        }
      }
    },
    {
      "cell_type": "code",
      "source": [
        "#noexport\n",
        "#learn.recorder.plot_lr_find(skip_end=10)"
      ],
      "outputs": [],
      "execution_count": 69,
      "metadata": {
        "gather": {
          "logged": 1638222485744
        }
      }
    },
    {
      "cell_type": "code",
      "source": [
        "#short_cb = learn.add_cb(ShortEpochCallback(pct=0.001))"
      ],
      "outputs": [],
      "execution_count": 70,
      "metadata": {
        "gather": {
          "logged": 1638222486069
        }
      }
    },
    {
      "cell_type": "code",
      "source": [
        "learn.add_cb(SaveModelCallback(monitor='acc_roc_auc', comp=np.greater, fname=f'best{H.model}'))"
      ],
      "outputs": [
        {
          "output_type": "execute_result",
          "execution_count": 71,
          "data": {
            "text/plain": "<fastai.learner.Learner at 0x7f4ef415dc70>"
          },
          "metadata": {}
        }
      ],
      "execution_count": 71,
      "metadata": {
        "gather": {
          "logged": 1638222486459
        }
      }
    },
    {
      "cell_type": "code",
      "source": [
        "print(H.fit, H.epochs, H.lr, H.fit_kwargs)"
      ],
      "outputs": [
        {
          "output_type": "stream",
          "name": "stdout",
          "text": "fit_flat_cos 5 0.003 {'pct_start': 0.5, 'div_final': 100.0}\n"
        }
      ],
      "execution_count": 72,
      "metadata": {
        "gather": {
          "logged": 1638222486746
        }
      }
    },
    {
      "cell_type": "code",
      "source": [
        "#noexport\n",
        "syn_learn = synth_learner()\n",
        "getattr(syn_learn,H.fit)(H.epochs, H.lr,**H.fit_kwargs)"
      ],
      "outputs": [
        {
          "output_type": "display_data",
          "data": {
            "text/plain": "<IPython.core.display.HTML object>",
            "text/html": "<table border=\"1\" class=\"dataframe\">\n  <thead>\n    <tr style=\"text-align: left;\">\n      <th>epoch</th>\n      <th>train_loss</th>\n      <th>valid_loss</th>\n      <th>time</th>\n    </tr>\n  </thead>\n  <tbody>\n    <tr>\n      <td>0</td>\n      <td>17.660828</td>\n      <td>10.589945</td>\n      <td>00:00</td>\n    </tr>\n    <tr>\n      <td>1</td>\n      <td>12.318185</td>\n      <td>2.498382</td>\n      <td>00:00</td>\n    </tr>\n    <tr>\n      <td>2</td>\n      <td>7.896964</td>\n      <td>0.196060</td>\n      <td>00:00</td>\n    </tr>\n    <tr>\n      <td>3</td>\n      <td>5.316852</td>\n      <td>0.009770</td>\n      <td>00:00</td>\n    </tr>\n    <tr>\n      <td>4</td>\n      <td>3.789580</td>\n      <td>0.010318</td>\n      <td>00:00</td>\n    </tr>\n  </tbody>\n</table>"
          },
          "metadata": {}
        }
      ],
      "execution_count": 73,
      "metadata": {
        "gather": {
          "logged": 1638222488701
        }
      }
    },
    {
      "cell_type": "code",
      "source": [
        "#noexport\n",
        "syn_learn.recorder.plot_sched()"
      ],
      "outputs": [
        {
          "output_type": "display_data",
          "data": {
            "text/plain": "<Figure size 432x288 with 1 Axes>",
            "image/png": "[encoded data removed]"
          },
          "metadata": {
            "needs_background": "light"
          }
        }
      ],
      "execution_count": 74,
      "metadata": {
        "gather": {
          "logged": 1638222489013
        }
      }
    },
    {
      "cell_type": "code",
      "source": [
        "H"
      ],
      "outputs": [
        {
          "output_type": "execute_result",
          "execution_count": 75,
          "data": {
            "text/plain": "- model: 210105\n- data: 210101b\n- load: None\n- validate: False\n- chunk_size: 500\n- n_chunks: 1\n- bs: 48\n- workers: 8\n- valid_pct: 0.025\n- trf_dim: 512\n- trf_enc: 4\n- trf_dec: 4\n- trf_heads: 4\n- trf_do: 0.1\n- trf_act: gelu\n- lr: 0.003\n- clip: 0.0\n- moms: (0.95, 0.85, 0.95)\n- epochs: 5\n- tfixup: True\n- mixup: False\n- opt: ranger_lamb\n- opt_kwargs: \n\n- fit: fit_flat_cos\n- fit_kwargs: \n  - pct_start: 0.5\n  - div_final: 100.0\n- fp16: to_fp16\n- loss: ce\n- wua: 0.0\n- pad: r\n- local_rank: None",
            "text/markdown": "- model: 210105\n- data: 210101b\n- load: None\n- validate: False\n- chunk_size: 500\n- n_chunks: 1\n- bs: 48\n- workers: 8\n- valid_pct: 0.025\n- trf_dim: 512\n- trf_enc: 4\n- trf_dec: 4\n- trf_heads: 4\n- trf_do: 0.1\n- trf_act: gelu\n- lr: 0.003\n- clip: 0.0\n- moms: (0.95, 0.85, 0.95)\n- epochs: 5\n- tfixup: True\n- mixup: False\n- opt: ranger_lamb\n- opt_kwargs: \n\n- fit: fit_flat_cos\n- fit_kwargs: \n  - pct_start: 0.5\n  - div_final: 100.0\n- fp16: to_fp16\n- loss: ce\n- wua: 0.0\n- pad: r\n- local_rank: None"
          },
          "metadata": {}
        }
      ],
      "execution_count": 75,
      "metadata": {
        "gather": {
          "logged": 1638222489412
        }
      }
    },
    {
      "cell_type": "code",
      "source": [
        "#learn.fit_flat_cos(H.epochs, H.lr,**H.fit_kwargs)"
      ],
      "outputs": [],
      "execution_count": 76,
      "metadata": {
        "gather": {
          "logged": 1638222489728
        }
      }
    },
    {
      "cell_type": "code",
      "source": [
        "print(f\"Fitting {H.local_rank}\")\n",
        "getattr(learn,H.fit)(H.epochs, H.lr,**H.fit_kwargs)"
      ],
      "outputs": [
        {
          "output_type": "stream",
          "name": "stdout",
          "text": "Fitting None\n"
        },
        {
          "output_type": "display_data",
          "data": {
            "text/plain": "<IPython.core.display.HTML object>",
            "text/html": "<table border=\"1\" class=\"dataframe\">\n  <thead>\n    <tr style=\"text-align: left;\">\n      <th>epoch</th>\n      <th>train_loss</th>\n      <th>valid_loss</th>\n      <th>acc_valid_loss</th>\n      <th>acc_roc_auc</th>\n      <th>time</th>\n    </tr>\n  </thead>\n  <tbody>\n    <tr>\n      <td>0</td>\n      <td>0.514199</td>\n      <td>0.515947</td>\n      <td>0.511980</td>\n      <td>0.792566</td>\n      <td>1:01:00</td>\n    </tr>\n    <tr>\n      <td>1</td>\n      <td>0.512181</td>\n      <td>0.510179</td>\n      <td>0.506200</td>\n      <td>0.798173</td>\n      <td>1:01:07</td>\n    </tr>\n    <tr>\n      <td>2</td>\n      <td>0.506178</td>\n      <td>0.506629</td>\n      <td>0.502587</td>\n      <td>0.801687</td>\n      <td>1:01:07</td>\n    </tr>\n    <tr>\n      <td>3</td>\n      <td>0.497723</td>\n      <td>0.501662</td>\n      <td>0.497615</td>\n      <td>0.806268</td>\n      <td>1:01:00</td>\n    </tr>\n    <tr>\n      <td>4</td>\n      <td>0.498730</td>\n      <td>0.499227</td>\n      <td>0.495168</td>\n      <td>0.808513</td>\n      <td>1:01:01</td>\n    </tr>\n  </tbody>\n</table>"
          },
          "metadata": {}
        },
        {
          "output_type": "stream",
          "name": "stdout",
          "text": "Better model found at epoch 0 with acc_roc_auc value: 0.7925662650799231.\nBetter model found at epoch 1 with acc_roc_auc value: 0.7981725037889048.\nBetter model found at epoch 2 with acc_roc_auc value: 0.801686915579876.\nBetter model found at epoch 3 with acc_roc_auc value: 0.8062679882633591.\nBetter model found at epoch 4 with acc_roc_auc value: 0.8085134053757371.\nLoaded best210105 ignoring:  and <All keys matched successfully>\n"
        }
      ],
      "execution_count": 77,
      "metadata": {
        "gather": {
          "logged": 1638240814371
        }
      }
    },
    {
      "cell_type": "code",
      "source": [],
      "outputs": [],
      "execution_count": null,
      "metadata": {}
    },
    {
      "cell_type": "code",
      "source": [
        "#noexport\n",
        "learn.recorder.values"
      ],
      "outputs": [
        {
          "output_type": "execute_result",
          "execution_count": 78,
          "data": {
            "text/plain": "[(#4) [0.5141985416412354,0.5159472823143005,0.5119799971580505,0.7925662650799231],\n (#4) [0.5121811032295227,0.5101794004440308,0.5061998963356018,0.7981725037889048],\n (#4) [0.506178081035614,0.5066288709640503,0.5025873184204102,0.801686915579876],\n (#4) [0.49772289395332336,0.5016622543334961,0.49761462211608887,0.8062679882633591],\n (#4) [0.49872997403144836,0.49922677874565125,0.49516764283180237,0.8085134053757371]]"
          },
          "metadata": {}
        }
      ],
      "execution_count": 78,
      "metadata": {
        "gather": {
          "logged": 1638240814665
        }
      }
    },
    {
      "cell_type": "code",
      "source": [
        "#noexport\n",
        "learn.recorder.plot_loss()"
      ],
      "outputs": [
        {
          "output_type": "display_data",
          "data": {
            "text/plain": "<Figure size 432x288 with 1 Axes>",
            "image/png": "[encoded data removed]"
          },
          "metadata": {
            "needs_background": "light"
          }
        }
      ],
      "execution_count": 79,
      "metadata": {
        "gather": {
          "logged": 1638240815164
        }
      }
    },
    {
      "cell_type": "code",
      "source": [
        "print(\"--- Execution time: %s seconds ---\" % (time.time() - start_time))"
      ],
      "outputs": [
        {
          "output_type": "stream",
          "name": "stdout",
          "text": "--- Execution time: 18652.234001874924 seconds ---\n"
        }
      ],
      "execution_count": 80,
      "metadata": {
        "gather": {
          "logged": 1638240815451
        }
      }
    }
  ],
  "metadata": {
    "kernelspec": {
      "name": "azureml_py38_pytorch",
      "language": "python",
      "display_name": "Python 3.8 - PyTorch"
    },
    "language_info": {
      "name": "python",
      "version": "3.8.1",
      "mimetype": "text/x-python",
      "codemirror_mode": {
        "name": "ipython",
        "version": 3
      },
      "pygments_lexer": "ipython3",
      "nbconvert_exporter": "python",
      "file_extension": ".py"
    },
    "toc": {
      "toc_position": {
        "height": "calc(100% - 180px)",
        "left": "10px",
        "top": "150px",
        "width": "336px"
      },
      "skip_h1_title": false,
      "number_sections": true,
      "title_cell": "Table of Contents",
      "toc_window_display": true,
      "base_numbering": 1,
      "toc_section_display": true,
      "title_sidebar": "Contents",
      "toc_cell": false,
      "nav_menu": {},
      "sideBar": true
    },
    "kernel_info": {
      "name": "azureml_py38_pytorch"
    },
    "microsoft": {
      "host": {
        "AzureML": {
          "notebookHasBeenCompleted": true
        }
      }
    },
    "nteract": {
      "version": "nteract-front-end@1.0.0"
    }
  },
  "nbformat": 4,
  "nbformat_minor": 0
}